{
 "cells": [
  {
   "cell_type": "markdown",
   "id": "07b87b13-3700-49b4-91a0-f97b5ab5bfe9",
   "metadata": {},
   "source": [
    "# Assignment 6"
   ]
  },
  {
   "cell_type": "markdown",
   "id": "4dc1bce5-a7ca-455c-afd0-d1871dc1317f",
   "metadata": {},
   "source": [
    "1. Write a Python Program to Display Fibonacci Sequence Using Recursion?"
   ]
  },
  {
   "cell_type": "code",
   "execution_count": 12,
   "id": "e588cf5d-f9da-4263-bdd6-9dbb6ef8fd9d",
   "metadata": {},
   "outputs": [
    {
     "name": "stdin",
     "output_type": "stream",
     "text": [
      "Enter the terms of fibonacci series : 6\n"
     ]
    },
    {
     "name": "stdout",
     "output_type": "stream",
     "text": [
      "Fibonacci Sequence: \n",
      "0\n",
      "1\n",
      "1\n",
      "2\n",
      "3\n",
      "5\n"
     ]
    }
   ],
   "source": [
    "def fibonacci_recursion(num2):\n",
    "    if num2 == 0:\n",
    "        return 0\n",
    "    elif num2 == 1:\n",
    "        return 1\n",
    "    else:\n",
    "        return (fibonacci_recursion(num2 - 1) + fibonacci_recursion(num2 - 2))\n",
    "\n",
    "terms = int(input(\"Enter the terms of fibonacci series :\"))\n",
    "\n",
    "print(\"Fibonacci Sequence: \")\n",
    "for i in range(terms):\n",
    "    print(fibonacci_recursion(i))"
   ]
  },
  {
   "cell_type": "markdown",
   "id": "f8a3b401-753e-49e0-8564-ce5040c70b8a",
   "metadata": {},
   "source": [
    "2. Write a Python Program to Find Factorial of Number Using Recursion?"
   ]
  },
  {
   "cell_type": "code",
   "execution_count": 13,
   "id": "2a10fb7e-5c4c-4790-b093-fb098fa331b5",
   "metadata": {},
   "outputs": [
    {
     "name": "stdin",
     "output_type": "stream",
     "text": [
      "Enter the number :  4\n"
     ]
    },
    {
     "name": "stdout",
     "output_type": "stream",
     "text": [
      "The factorial of the 4 is 24\n"
     ]
    }
   ],
   "source": [
    "def factorial_recursion(num):\n",
    "    if num == 1 or num == 0:\n",
    "        return 1\n",
    "    return num * factorial_recursion(num-1)\n",
    "\n",
    "try:\n",
    "    num1 = int(input(\"Enter the number : \"))\n",
    "    print(f\"The factorial of the {num1} is\",factorial_recursion(num1))\n",
    "except Exception as e:\n",
    "    print(\"Only numbers are allowed\",e)"
   ]
  },
  {
   "cell_type": "markdown",
   "id": "b0e47f9f-17bf-41f9-bb83-64925fa5a42d",
   "metadata": {},
   "source": [
    "3. Write a Python Program to calculate your Body Mass Index?"
   ]
  },
  {
   "cell_type": "code",
   "execution_count": 13,
   "id": "9f9a948c-18cf-49ad-8987-6dec96af0752",
   "metadata": {},
   "outputs": [
    {
     "name": "stdin",
     "output_type": "stream",
     "text": [
      "Enter your height in cm:  170\n",
      "Enter your weight in kg:  65\n"
     ]
    },
    {
     "name": "stdout",
     "output_type": "stream",
     "text": [
      "You BMI is 22.49134948096886\n",
      "Healthy range\n"
     ]
    }
   ],
   "source": [
    "height = float(input(\"Enter your height in cm: \"))\n",
    "weight = float(input(\"Enter your weight in kg: \"))\n",
    "BMI = weight / (height/100)**2\n",
    "print(f\"You BMI is {BMI}\")\n",
    "\n",
    "if BMI <= 18.5: \n",
    "    print(\"Underweight\")\n",
    "elif 18.5 < BMI <= 24.9:\n",
    "    print(\"Healthy range\")\n",
    "elif 25 <= BMI <= 29.9:\n",
    "    print(\"Overweight\")\n",
    "else:\n",
    "    print(\"Obese\")"
   ]
  },
  {
   "cell_type": "markdown",
   "id": "7634d586-3aa5-4022-834c-635fba09b4e5",
   "metadata": {},
   "source": [
    "4. Write a Python Program to calculate the natural logarithm of any number?"
   ]
  },
  {
   "cell_type": "code",
   "execution_count": 13,
   "id": "2d07238f-bca7-4628-a304-b2eb91b92916",
   "metadata": {},
   "outputs": [
    {
     "name": "stdin",
     "output_type": "stream",
     "text": [
      "Enter the number : 10\n"
     ]
    },
    {
     "name": "stdout",
     "output_type": "stream",
     "text": [
      "2.302585092994046\n"
     ]
    }
   ],
   "source": [
    "import math\n",
    "\n",
    "number = int(input(\"Enter the number :\"))\n",
    "result = math.log(number)\n",
    "print(result)"
   ]
  },
  {
   "cell_type": "markdown",
   "id": "3582c4df-1d9c-4f66-bc4a-937620e5d1df",
   "metadata": {},
   "source": [
    "5. Write a Python Program for cube sum of first n natural numbers?"
   ]
  },
  {
   "cell_type": "code",
   "execution_count": 22,
   "id": "6ac56c5e-4e82-4e64-97ce-bd9a12ffc3e9",
   "metadata": {},
   "outputs": [
    {
     "name": "stdin",
     "output_type": "stream",
     "text": [
      "Enter the value of n:  10\n"
     ]
    },
    {
     "name": "stdout",
     "output_type": "stream",
     "text": [
      "The sum of cubes of the first 10 natural numbers is: 3025\n"
     ]
    }
   ],
   "source": [
    "def cube_sum(n):\n",
    "    return (n * (n + 1) // 2) ** 2\n",
    "\n",
    "if __name__ == \"__main__\":\n",
    "    n = int(input(\"Enter the value of n: \"))\n",
    "    result = cube_sum(n)\n",
    "    print(f\"The sum of cubes of the first {n} natural numbers is: {result}\")"
   ]
  },
  {
   "cell_type": "code",
   "execution_count": null,
   "id": "65e00696-c060-4acd-ae08-6b7e60e462a5",
   "metadata": {},
   "outputs": [],
   "source": []
  }
 ],
 "metadata": {
  "kernelspec": {
   "display_name": "Python 3 (ipykernel)",
   "language": "python",
   "name": "python3"
  },
  "language_info": {
   "codemirror_mode": {
    "name": "ipython",
    "version": 3
   },
   "file_extension": ".py",
   "mimetype": "text/x-python",
   "name": "python",
   "nbconvert_exporter": "python",
   "pygments_lexer": "ipython3",
   "version": "3.9.5"
  }
 },
 "nbformat": 4,
 "nbformat_minor": 5
}
