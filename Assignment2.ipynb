{
 "cells": [
  {
   "cell_type": "markdown",
   "id": "57fadbca-13b9-4344-bfb9-a8e41a05d457",
   "metadata": {},
   "source": [
    "# Assignment 2"
   ]
  },
  {
   "cell_type": "markdown",
   "id": "6912d1a4-fc0f-41d4-850d-83292ddcf461",
   "metadata": {},
   "source": [
    "1. Write a Python program to convert kilometers to miles?"
   ]
  },
  {
   "cell_type": "code",
   "execution_count": 13,
   "id": "d8895c69-9071-4bc0-94f3-bedcc298b382",
   "metadata": {},
   "outputs": [
    {
     "name": "stdin",
     "output_type": "stream",
     "text": [
      "Enter the value of kilometer : 12\n"
     ]
    },
    {
     "name": "stdout",
     "output_type": "stream",
     "text": [
      "Miles in 12 Km are  : 7.452\n"
     ]
    }
   ],
   "source": [
    "kilometer = int(input(\"Enter the value of kilometer :\"))\n",
    "miles = kilometer * .621\n",
    "print(f\"Miles in {kilometer} Km are  : {miles}\")"
   ]
  },
  {
   "cell_type": "code",
   "execution_count": 14,
   "id": "8fcdec85-958a-430d-b1f0-11cb3ca9a3da",
   "metadata": {},
   "outputs": [
    {
     "name": "stdin",
     "output_type": "stream",
     "text": [
      "Enter the value of kilometer : 12\n"
     ]
    },
    {
     "name": "stdout",
     "output_type": "stream",
     "text": [
      "Miles in 12 Km are  : 7.452\n"
     ]
    }
   ],
   "source": [
    "def km_to_milies(kilometer):\n",
    "    miles = kilometer * .621\n",
    "    print(f\"Miles in {kilometer} Km are  : {miles}\")\n",
    "\n",
    "kilometer = int(input(\"Enter the value of kilometer :\"))\n",
    "km_to_milies(kilometer)"
   ]
  },
  {
   "cell_type": "markdown",
   "id": "013fec5a-b345-4be5-92e7-ea1b4915e2d3",
   "metadata": {},
   "source": [
    "2. Write a Python program to convert Celsius to Fahrenheit?"
   ]
  },
  {
   "cell_type": "code",
   "execution_count": 15,
   "id": "b2232cf4-fd93-4eca-9ae5-2305ad70f57e",
   "metadata": {},
   "outputs": [
    {
     "name": "stdin",
     "output_type": "stream",
     "text": [
      "Enter the value of celsius : 12\n"
     ]
    },
    {
     "name": "stdout",
     "output_type": "stream",
     "text": [
      "Fahrenheit is in 12.0 celsius are : 53.6\n"
     ]
    }
   ],
   "source": [
    "celsius = float(input(\"Enter the value of celsius :\"))\n",
    "fahrenheit = (celsius * 9/5) + 32\n",
    "print(f\"Fahrenheit is in {celsius} celsius are : {fahrenheit}\")"
   ]
  },
  {
   "cell_type": "code",
   "execution_count": 21,
   "id": "0effd546-b397-4128-a0e4-8502d56c2eaa",
   "metadata": {},
   "outputs": [
    {
     "name": "stdin",
     "output_type": "stream",
     "text": [
      "Enter the value of celsius : 12\n"
     ]
    },
    {
     "name": "stdout",
     "output_type": "stream",
     "text": [
      "Fahrenheit is in 12.0 celsius are : 53.6\n"
     ]
    },
    {
     "data": {
      "text/plain": [
       "53.6"
      ]
     },
     "execution_count": 21,
     "metadata": {},
     "output_type": "execute_result"
    }
   ],
   "source": [
    "def cel_to_feh(celsius):\n",
    "    fahrenheit = (celsius * 9/5) + 32\n",
    "    print(f\"Fahrenheit is in {celsius} celsius are : {fahrenheit}\")\n",
    "    return fahrenheit\n",
    "\n",
    "celsius = float(input(\"Enter the value of celsius :\"))\n",
    "cel_to_feh(celsius)"
   ]
  },
  {
   "cell_type": "markdown",
   "id": "37a93bbb-d223-42fa-8b5e-d84584457376",
   "metadata": {},
   "source": [
    "3. Write a Python program to display calendar?"
   ]
  },
  {
   "cell_type": "code",
   "execution_count": 3,
   "id": "380ce256-e9fc-4058-912f-a0865d72eae0",
   "metadata": {},
   "outputs": [
    {
     "name": "stdout",
     "output_type": "stream",
     "text": [
      "                                  2024\n",
      "\n",
      "      January                   February                   March\n",
      "Mo Tu We Th Fr Sa Su      Mo Tu We Th Fr Sa Su      Mo Tu We Th Fr Sa Su\n",
      " 1  2  3  4  5  6  7                1  2  3  4                   1  2  3\n",
      " 8  9 10 11 12 13 14       5  6  7  8  9 10 11       4  5  6  7  8  9 10\n",
      "15 16 17 18 19 20 21      12 13 14 15 16 17 18      11 12 13 14 15 16 17\n",
      "22 23 24 25 26 27 28      19 20 21 22 23 24 25      18 19 20 21 22 23 24\n",
      "29 30 31                  26 27 28 29               25 26 27 28 29 30 31\n",
      "\n",
      "       April                      May                       June\n",
      "Mo Tu We Th Fr Sa Su      Mo Tu We Th Fr Sa Su      Mo Tu We Th Fr Sa Su\n",
      " 1  2  3  4  5  6  7             1  2  3  4  5                      1  2\n",
      " 8  9 10 11 12 13 14       6  7  8  9 10 11 12       3  4  5  6  7  8  9\n",
      "15 16 17 18 19 20 21      13 14 15 16 17 18 19      10 11 12 13 14 15 16\n",
      "22 23 24 25 26 27 28      20 21 22 23 24 25 26      17 18 19 20 21 22 23\n",
      "29 30                     27 28 29 30 31            24 25 26 27 28 29 30\n",
      "\n",
      "        July                     August                  September\n",
      "Mo Tu We Th Fr Sa Su      Mo Tu We Th Fr Sa Su      Mo Tu We Th Fr Sa Su\n",
      " 1  2  3  4  5  6  7                1  2  3  4                         1\n",
      " 8  9 10 11 12 13 14       5  6  7  8  9 10 11       2  3  4  5  6  7  8\n",
      "15 16 17 18 19 20 21      12 13 14 15 16 17 18       9 10 11 12 13 14 15\n",
      "22 23 24 25 26 27 28      19 20 21 22 23 24 25      16 17 18 19 20 21 22\n",
      "29 30 31                  26 27 28 29 30 31         23 24 25 26 27 28 29\n",
      "                                                    30\n",
      "\n",
      "      October                   November                  December\n",
      "Mo Tu We Th Fr Sa Su      Mo Tu We Th Fr Sa Su      Mo Tu We Th Fr Sa Su\n",
      "    1  2  3  4  5  6                   1  2  3                         1\n",
      " 7  8  9 10 11 12 13       4  5  6  7  8  9 10       2  3  4  5  6  7  8\n",
      "14 15 16 17 18 19 20      11 12 13 14 15 16 17       9 10 11 12 13 14 15\n",
      "21 22 23 24 25 26 27      18 19 20 21 22 23 24      16 17 18 19 20 21 22\n",
      "28 29 30 31               25 26 27 28 29 30         23 24 25 26 27 28 29\n",
      "                                                    30 31\n",
      "\n"
     ]
    }
   ],
   "source": [
    "import calendar\n",
    "print(calendar.calendar(2024))"
   ]
  },
  {
   "cell_type": "code",
   "execution_count": 4,
   "id": "69b9c29f-defd-4f1c-aa5e-9586da799748",
   "metadata": {},
   "outputs": [
    {
     "name": "stdout",
     "output_type": "stream",
     "text": [
      "                     2024\n",
      "\n",
      "      January                   February\n",
      "Mo Tu We Th Fr Sa Su      Mo Tu We Th Fr Sa Su\n",
      " 1  2  3  4  5  6  7                1  2  3  4\n",
      " 8  9 10 11 12 13 14       5  6  7  8  9 10 11\n",
      "15 16 17 18 19 20 21      12 13 14 15 16 17 18\n",
      "22 23 24 25 26 27 28      19 20 21 22 23 24 25\n",
      "29 30 31                  26 27 28 29\n",
      "\n",
      "       March                     April\n",
      "Mo Tu We Th Fr Sa Su      Mo Tu We Th Fr Sa Su\n",
      "             1  2  3       1  2  3  4  5  6  7\n",
      " 4  5  6  7  8  9 10       8  9 10 11 12 13 14\n",
      "11 12 13 14 15 16 17      15 16 17 18 19 20 21\n",
      "18 19 20 21 22 23 24      22 23 24 25 26 27 28\n",
      "25 26 27 28 29 30 31      29 30\n",
      "\n",
      "        May                       June\n",
      "Mo Tu We Th Fr Sa Su      Mo Tu We Th Fr Sa Su\n",
      "       1  2  3  4  5                      1  2\n",
      " 6  7  8  9 10 11 12       3  4  5  6  7  8  9\n",
      "13 14 15 16 17 18 19      10 11 12 13 14 15 16\n",
      "20 21 22 23 24 25 26      17 18 19 20 21 22 23\n",
      "27 28 29 30 31            24 25 26 27 28 29 30\n",
      "\n",
      "        July                     August\n",
      "Mo Tu We Th Fr Sa Su      Mo Tu We Th Fr Sa Su\n",
      " 1  2  3  4  5  6  7                1  2  3  4\n",
      " 8  9 10 11 12 13 14       5  6  7  8  9 10 11\n",
      "15 16 17 18 19 20 21      12 13 14 15 16 17 18\n",
      "22 23 24 25 26 27 28      19 20 21 22 23 24 25\n",
      "29 30 31                  26 27 28 29 30 31\n",
      "\n",
      "     September                  October\n",
      "Mo Tu We Th Fr Sa Su      Mo Tu We Th Fr Sa Su\n",
      "                   1          1  2  3  4  5  6\n",
      " 2  3  4  5  6  7  8       7  8  9 10 11 12 13\n",
      " 9 10 11 12 13 14 15      14 15 16 17 18 19 20\n",
      "16 17 18 19 20 21 22      21 22 23 24 25 26 27\n",
      "23 24 25 26 27 28 29      28 29 30 31\n",
      "30\n",
      "\n",
      "      November                  December\n",
      "Mo Tu We Th Fr Sa Su      Mo Tu We Th Fr Sa Su\n",
      "             1  2  3                         1\n",
      " 4  5  6  7  8  9 10       2  3  4  5  6  7  8\n",
      "11 12 13 14 15 16 17       9 10 11 12 13 14 15\n",
      "18 19 20 21 22 23 24      16 17 18 19 20 21 22\n",
      "25 26 27 28 29 30         23 24 25 26 27 28 29\n",
      "                          30 31\n",
      "\n"
     ]
    }
   ],
   "source": [
    "import calendar\n",
    "print(calendar.calendar(2024,m=2))"
   ]
  },
  {
   "cell_type": "code",
   "execution_count": 5,
   "id": "05eef186-f862-40ba-b3d9-890fdd5831bf",
   "metadata": {},
   "outputs": [
    {
     "name": "stdout",
     "output_type": "stream",
     "text": [
      "(3, 29)\n"
     ]
    }
   ],
   "source": [
    "print(calendar.monthrange(2024,2))"
   ]
  },
  {
   "cell_type": "code",
   "execution_count": 6,
   "id": "797debec-c76d-4f5a-bd58-f7748b3619a6",
   "metadata": {},
   "outputs": [
    {
     "name": "stdout",
     "output_type": "stream",
     "text": [
      "   February 2024\n",
      "Mo Tu We Th Fr Sa Su\n",
      "          1  2  3  4\n",
      " 5  6  7  8  9 10 11\n",
      "12 13 14 15 16 17 18\n",
      "19 20 21 22 23 24 25\n",
      "26 27 28 29\n",
      "\n"
     ]
    }
   ],
   "source": [
    "print(calendar.month(2024,2))"
   ]
  },
  {
   "cell_type": "markdown",
   "id": "55c5f3ca-26e7-42b7-8ba8-c1a79860c0a2",
   "metadata": {},
   "source": [
    "4. Write a Python program to solve quadratic equation?"
   ]
  },
  {
   "cell_type": "code",
   "execution_count": 2,
   "id": "095a3479-3624-438c-97ff-3718e184451f",
   "metadata": {},
   "outputs": [
    {
     "name": "stdin",
     "output_type": "stream",
     "text": [
      "Enter the value of a : 2\n",
      "Enter the value of b : 5\n",
      "Enter the value of c : -3\n"
     ]
    },
    {
     "name": "stdout",
     "output_type": "stream",
     "text": [
      "The first root is  (0.5+0j)\n",
      "The second root is  (-3+0j)\n"
     ]
    }
   ],
   "source": [
    "import cmath\n",
    "\n",
    "a = int(input(\"Enter the value of a :\"))\n",
    "b = int(input(\"Enter the value of b :\"))\n",
    "c = int(input(\"Enter the value of c :\"))\n",
    "dis = (b**2) - (4*a*c)\n",
    "root1 = (-b + cmath.sqrt(dis)) / (2*a)\n",
    "root2 = (-b - cmath.sqrt(dis)) / (2*a)  \n",
    "\n",
    "print(\"The first root is \",root1)\n",
    "print(\"The second root is \",root2)                  "
   ]
  },
  {
   "cell_type": "code",
   "execution_count": 3,
   "id": "79f3af81-f209-4778-a8d8-b69ed10af4c8",
   "metadata": {},
   "outputs": [
    {
     "name": "stdin",
     "output_type": "stream",
     "text": [
      "Enter the value of a : 2\n",
      "Enter the value of b : 5\n",
      "Enter the value of c : -3\n"
     ]
    },
    {
     "name": "stdout",
     "output_type": "stream",
     "text": [
      "The first root is  0.5\n",
      "The second root is  -3.0\n"
     ]
    }
   ],
   "source": [
    "import math\n",
    "\n",
    "a = int(input(\"Enter the value of a :\"))\n",
    "b = int(input(\"Enter the value of b :\"))\n",
    "c = int(input(\"Enter the value of c :\"))\n",
    "dis = (b**2) - (4*a*c)\n",
    "root1 = (-b + math.sqrt(dis)) / (2*a)\n",
    "root2 = (-b - math.sqrt(dis)) / (2*a)  \n",
    "\n",
    "print(\"The first root is \",root1)\n",
    "print(\"The second root is \",root2)  "
   ]
  },
  {
   "cell_type": "markdown",
   "id": "fc3cd520-5f29-4b5f-9709-cde1d308a9e8",
   "metadata": {},
   "source": [
    "5. Write a Python program to swap two variables without temp variable?"
   ]
  },
  {
   "cell_type": "code",
   "execution_count": 8,
   "id": "4341d13b-71af-4dd2-8837-8cc39b73bea7",
   "metadata": {},
   "outputs": [
    {
     "name": "stdin",
     "output_type": "stream",
     "text": [
      "Enter the first value : 10\n",
      "Enter the second value : 65\n"
     ]
    },
    {
     "name": "stdout",
     "output_type": "stream",
     "text": [
      "The values of variable without swap is (10, 65)\n",
      "The values of variable after swap is 65 10\n"
     ]
    }
   ],
   "source": [
    "var1 = int(input(\"Enter the first value :\"))\n",
    "var2 = int(input(\"Enter the second value :\"))\n",
    "swap = var1 , var2\n",
    "var1,var2 = var2,var1\n",
    "\n",
    "print(\"The values of variable without swap is\",swap)\n",
    "print(\"The values of variable after swap is\",var1,var2)"
   ]
  },
  {
   "cell_type": "code",
   "execution_count": null,
   "id": "04d16763-1cfe-4153-ad1a-a90e1af58eaf",
   "metadata": {},
   "outputs": [],
   "source": []
  }
 ],
 "metadata": {
  "kernelspec": {
   "display_name": "Python 3 (ipykernel)",
   "language": "python",
   "name": "python3"
  },
  "language_info": {
   "codemirror_mode": {
    "name": "ipython",
    "version": 3
   },
   "file_extension": ".py",
   "mimetype": "text/x-python",
   "name": "python",
   "nbconvert_exporter": "python",
   "pygments_lexer": "ipython3",
   "version": "3.9.5"
  }
 },
 "nbformat": 4,
 "nbformat_minor": 5
}
