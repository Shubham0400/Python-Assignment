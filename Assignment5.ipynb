{
 "cells": [
  {
   "cell_type": "markdown",
   "id": "b106b1c0-b225-4d3a-b0f9-43525fc4a081",
   "metadata": {},
   "source": [
    "# Assignment 5"
   ]
  },
  {
   "cell_type": "markdown",
   "id": "fab46134-b885-4ad7-96b8-5303a97e77a1",
   "metadata": {},
   "source": [
    "1. Write a Python Program to Find LCM?"
   ]
  },
  {
   "cell_type": "code",
   "execution_count": 3,
   "id": "e9d45f0e-e69d-450b-828a-bc089a93fcc7",
   "metadata": {},
   "outputs": [
    {
     "name": "stdin",
     "output_type": "stream",
     "text": [
      "Enter the first number:  4\n",
      "Enter the second number:  51\n"
     ]
    },
    {
     "name": "stdout",
     "output_type": "stream",
     "text": [
      "The LCM of 4 and 51 is 204\n"
     ]
    }
   ],
   "source": [
    "def lcm(x, y):\n",
    "    def gcd(a, b):\n",
    "        while b:\n",
    "            a, b = b, a % b\n",
    "        return a\n",
    "\n",
    "    return (x * y) // gcd(x, y)\n",
    "\n",
    "num1 = int(input(\"Enter the first number: \"))\n",
    "num2 = int(input(\"Enter the second number: \"))\n",
    "\n",
    "print(\"The LCM of\", num1, \"and\", num2, \"is\", lcm(num1, num2))"
   ]
  },
  {
   "cell_type": "markdown",
   "id": "208c0265-e575-4387-a1e8-9027a4d32b71",
   "metadata": {},
   "source": [
    "2. Write a Python Program to Find HCF?"
   ]
  },
  {
   "cell_type": "code",
   "execution_count": 5,
   "id": "a608b775-32fb-44a9-b7e7-fbfd10510b56",
   "metadata": {},
   "outputs": [
    {
     "name": "stdin",
     "output_type": "stream",
     "text": [
      "Enter the first number:  45\n",
      "Enter the second number:  88\n"
     ]
    },
    {
     "name": "stdout",
     "output_type": "stream",
     "text": [
      "The HCF of 45 and 88 is 1\n"
     ]
    }
   ],
   "source": [
    "def compute_hcf(x, y):\n",
    "    while y:\n",
    "        x, y = y, x % y\n",
    "    return x\n",
    "\n",
    "num1 = int(input(\"Enter the first number: \"))\n",
    "num2 = int(input(\"Enter the second number: \"))\n",
    "\n",
    "hcf = compute_hcf(num1, num2)\n",
    "\n",
    "print(\"The HCF of\", num1, \"and\", num2, \"is\", hcf)"
   ]
  },
  {
   "cell_type": "code",
   "execution_count": 8,
   "id": "1fad158e-2550-4a76-adac-f4928003a15d",
   "metadata": {},
   "outputs": [
    {
     "name": "stdin",
     "output_type": "stream",
     "text": [
      "Enter the first number : 45\n",
      "Enter the second number : 88\n"
     ]
    },
    {
     "name": "stdout",
     "output_type": "stream",
     "text": [
      "The HCF of 45 and 88 is 1\n"
     ]
    }
   ],
   "source": [
    "num1 = int(input(\"Enter the first number :\"))\n",
    "num2 = int(input(\"Enter the second number :\"))\n",
    "if num1<num2:\n",
    "    divisor = num1\n",
    "    dividend = num2\n",
    "else:\n",
    "    divisor = num2\n",
    "    dividend = num1\n",
    "\n",
    "remainder = dividend % divisor\n",
    "\n",
    "while remainder != 0:\n",
    "    dividend = divisor\n",
    "    divisor = remainder\n",
    "    remainder = dividend % divisor\n",
    "print(f\"The HCF of {num1} and {num2} is\", divisor) "
   ]
  },
  {
   "cell_type": "markdown",
   "id": "f2012e75-1141-4b7f-ad8d-502b4c105834",
   "metadata": {},
   "source": [
    "3. Write a Python Program to Convert Decimal to Binary, Octal and Hexadecimal?"
   ]
  },
  {
   "cell_type": "code",
   "execution_count": 1,
   "id": "5de82ea4-dd82-44b1-9e9f-f5d14c4ec979",
   "metadata": {},
   "outputs": [
    {
     "name": "stdin",
     "output_type": "stream",
     "text": [
      "Enter the number :  14\n"
     ]
    },
    {
     "name": "stdout",
     "output_type": "stream",
     "text": [
      "0b1110\n",
      "0o16\n",
      "0xe\n"
     ]
    }
   ],
   "source": [
    "number = int(input(\"Enter the number : \"))\n",
    "print(bin(number))\n",
    "print(oct(number))\n",
    "print(hex(number))"
   ]
  },
  {
   "cell_type": "code",
   "execution_count": 7,
   "id": "d84f4f2c-68ef-4778-a81a-3dabfa3ea03f",
   "metadata": {},
   "outputs": [
    {
     "name": "stdin",
     "output_type": "stream",
     "text": [
      "Enter a decimal number:  45\n"
     ]
    },
    {
     "name": "stdout",
     "output_type": "stream",
     "text": [
      "Binary: 101101\n",
      "Octal: 55\n",
      "Hexadecimal: 2D\n"
     ]
    }
   ],
   "source": [
    "def convert_to_binary(decimal):\n",
    "      if decimal == 0:\n",
    "        return \"0\"\n",
    "      binary = \"\"\n",
    "      while decimal > 0:\n",
    "        remainder = decimal % 2\n",
    "        binary = str(remainder) + binary\n",
    "        decimal //= 2\n",
    "      return binary\n",
    "\n",
    "def convert_to_octal(decimal):\n",
    "     if decimal == 0:\n",
    "        return \"0\"\n",
    "     octal = \"\"\n",
    "     while decimal > 0:\n",
    "        remainder = decimal % 8\n",
    "        octal = str(remainder) + octal\n",
    "        decimal //= 8\n",
    "     return octal\n",
    "\n",
    "def convert_to_hexadecimal(decimal):\n",
    "      if decimal == 0:\n",
    "        return \"0\"\n",
    "      hexadecimal = \"\"\n",
    "      hex_digits = \"0123456789ABCDEF\"\n",
    "      while decimal > 0:\n",
    "        remainder = decimal % 16\n",
    "        hexadecimal = hex_digits[remainder] + hexadecimal\n",
    "        decimal //= 16\n",
    "      return hexadecimal\n",
    "\n",
    "if __name__ == \"__main__\":\n",
    "      decimal_num = int(input(\"Enter a decimal number: \"))\n",
    "    \n",
    "      binary_num = convert_to_binary(decimal_num)\n",
    "      octal_num = convert_to_octal(decimal_num)\n",
    "      hexadecimal_num = convert_to_hexadecimal(decimal_num)\n",
    "    \n",
    "      print(f\"Binary: {binary_num}\")\n",
    "      print(f\"Octal: {octal_num}\")\n",
    "      print(f\"Hexadecimal: {hexadecimal_num}\")"
   ]
  },
  {
   "cell_type": "markdown",
   "id": "3f125956-85dc-4c55-983a-2597b98053b6",
   "metadata": {},
   "source": [
    "4. Write a Python Program To Find ASCII value of a character?"
   ]
  },
  {
   "cell_type": "code",
   "execution_count": 14,
   "id": "5bc05a18-96a3-48c2-8e3a-c4883a5732fc",
   "metadata": {},
   "outputs": [
    {
     "name": "stdin",
     "output_type": "stream",
     "text": [
      "Enter a character:  1\n"
     ]
    },
    {
     "name": "stdout",
     "output_type": "stream",
     "text": [
      "The ASCII value of '1' is: 49\n"
     ]
    }
   ],
   "source": [
    "def get_ascii_value(character):\n",
    "    return ord(character)\n",
    "\n",
    "character = input(\"Enter a character: \")\n",
    "\n",
    "ascii_value = get_ascii_value(character)\n",
    "\n",
    "print(f\"The ASCII value of '{character}' is: {ascii_value}\")"
   ]
  },
  {
   "cell_type": "markdown",
   "id": "c35da251-fe45-4e42-bcc7-0b47514f8933",
   "metadata": {},
   "source": [
    "5. Write a Python Program to Make a Simple Calculator with 4 basic mathematical operations?"
   ]
  },
  {
   "cell_type": "code",
   "execution_count": 18,
   "id": "6f3b2f4d-f387-49ee-9dd5-fa21a00e4917",
   "metadata": {},
   "outputs": [
    {
     "name": "stdout",
     "output_type": "stream",
     "text": [
      "Please select operation -\n",
      "1. Add\n",
      "2. Subtract\n",
      "3. Multiply\n",
      "4. Divide\n",
      "\n"
     ]
    },
    {
     "name": "stdin",
     "output_type": "stream",
     "text": [
      "Select operations form 1, 2, 3, 4 : 2\n",
      "Enter first number:  410.2\n",
      "Enter second number:  487.3\n"
     ]
    },
    {
     "name": "stdout",
     "output_type": "stream",
     "text": [
      "410.2 - 487.3 = -77.10000000000002\n"
     ]
    }
   ],
   "source": [
    "def add(num1,num2):\n",
    "    return num1+num2\n",
    "    \n",
    "def subtract(num1,num2):\n",
    "    return num1-num2\n",
    "    \n",
    "def multiply(num1,num2):\n",
    "    return num1*num2\n",
    "\n",
    "def divide(num1,num2):\n",
    "    return num1/num2\n",
    "\n",
    "print(\"Please select operation -\\n\" \\\n",
    "        \"1. Add\\n\" \\\n",
    "        \"2. Subtract\\n\" \\\n",
    "        \"3. Multiply\\n\" \\\n",
    "        \"4. Divide\\n\")\n",
    "\n",
    "select = int(input(\"Select operations form 1, 2, 3, 4 :\"))\n",
    "\n",
    "number_1 = float(input(\"Enter first number: \"))\n",
    "number_2 = float(input(\"Enter second number: \"))\n",
    "\n",
    "if select == 1:\n",
    "    print(number_1, \"+\", number_2, \"=\", add(number_1, number_2))\n",
    "\n",
    "elif select == 2:\n",
    "    print(number_1, \"-\", number_2, \"=\", subtract(number_1,number_2))\n",
    "\n",
    "elif select == 3:\n",
    "    print(number_1, \"*\", number_2, \"=\", multiply(number_1,number_2))\n",
    "\n",
    "elif select == 4:\n",
    "    print(number_1, \"/\", number_2, \"=\", divide(number_1,number_2))"
   ]
  },
  {
   "cell_type": "code",
   "execution_count": null,
   "id": "5ef0304d-4d40-4e1a-ab3e-0057b39da6fa",
   "metadata": {},
   "outputs": [],
   "source": []
  }
 ],
 "metadata": {
  "kernelspec": {
   "display_name": "Python 3 (ipykernel)",
   "language": "python",
   "name": "python3"
  },
  "language_info": {
   "codemirror_mode": {
    "name": "ipython",
    "version": 3
   },
   "file_extension": ".py",
   "mimetype": "text/x-python",
   "name": "python",
   "nbconvert_exporter": "python",
   "pygments_lexer": "ipython3",
   "version": "3.9.5"
  }
 },
 "nbformat": 4,
 "nbformat_minor": 5
}
