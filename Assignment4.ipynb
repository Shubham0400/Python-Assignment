{
 "cells": [
  {
   "cell_type": "markdown",
   "id": "9cd94656-1c37-4476-be02-b5e441cf2482",
   "metadata": {},
   "source": [
    "# Assignment 4"
   ]
  },
  {
   "cell_type": "markdown",
   "id": "5650c5e7-3d59-4cd3-80f8-0f1eda9759b5",
   "metadata": {},
   "source": [
    "1. Write a Python Program to Find the Factorial of a Number?"
   ]
  },
  {
   "cell_type": "code",
   "execution_count": 71,
   "id": "b4a59126-a33f-4db6-bc04-ad910536ee39",
   "metadata": {},
   "outputs": [
    {
     "name": "stdin",
     "output_type": "stream",
     "text": [
      "Enter a number :  12\n"
     ]
    },
    {
     "name": "stdout",
     "output_type": "stream",
     "text": [
      "479001600\n"
     ]
    }
   ],
   "source": [
    "import math\n",
    "\n",
    "def factorial(n):\n",
    "    if n < 0:\n",
    "        return \"Only for positive numbers\"\n",
    "    return math.factorial(n)\n",
    "\n",
    "try:\n",
    "    num = int(input(\"Enter a number : \"))\n",
    "    print(factorial(num))\n",
    "\n",
    "except Exception as e:\n",
    "    print(\"Only numbers are allowed\")\n",
    "\n",
    "#print(f\"The factorial of {num} is {n}\")"
   ]
  },
  {
   "cell_type": "markdown",
   "id": "0088f8f6-c3dd-447b-844e-0826e31006fe",
   "metadata": {},
   "source": [
    "2. Write a Python Program to Display the multiplication Table?"
   ]
  },
  {
   "cell_type": "code",
   "execution_count": 10,
   "id": "b9056931-5523-41bc-b225-4b1fcc0f808b",
   "metadata": {},
   "outputs": [
    {
     "name": "stdin",
     "output_type": "stream",
     "text": [
      "Enter the number :  5\n"
     ]
    },
    {
     "name": "stdout",
     "output_type": "stream",
     "text": [
      "5 x 1 = 5\n",
      "5 x 2 = 10\n",
      "5 x 3 = 15\n",
      "5 x 4 = 20\n",
      "5 x 5 = 25\n",
      "5 x 6 = 30\n",
      "5 x 7 = 35\n",
      "5 x 8 = 40\n",
      "5 x 9 = 45\n",
      "5 x 10 = 50\n"
     ]
    }
   ],
   "source": [
    "def table(numbers):\n",
    "    for i in range(1,11):\n",
    "        print(f\"{numbers} x {i} =\",numbers * i)\n",
    "\n",
    "try:\n",
    "    num = int(input(\"Enter the number : \"))\n",
    "    table(num)\n",
    "\n",
    "except Exception as error:\n",
    "    print(\"Only accept the numbers\",error)\n",
    "    "
   ]
  },
  {
   "cell_type": "code",
   "execution_count": 11,
   "id": "1c4ba9b2-2ad0-4685-83b5-352c7f4fa5a9",
   "metadata": {},
   "outputs": [
    {
     "name": "stdin",
     "output_type": "stream",
     "text": [
      "Enter the number: 45\n"
     ]
    },
    {
     "name": "stdout",
     "output_type": "stream",
     "text": [
      "45 x 1 = 45\n",
      "45 x 2 = 90\n",
      "45 x 3 = 135\n",
      "45 x 4 = 180\n",
      "45 x 5 = 225\n",
      "45 x 6 = 270\n",
      "45 x 7 = 315\n",
      "45 x 8 = 360\n",
      "45 x 9 = 405\n",
      "45 x 10 = 450\n"
     ]
    }
   ],
   "source": [
    "def table(var):\n",
    "    for i in range(1,11):\n",
    "        print(var, \"x\", i, \"=\", var*i)\n",
    "\n",
    "if __name__ == \"__main__\":\n",
    "     try:\n",
    "        var = int(input(\"Enter the number:\"))\n",
    "        table(var)\n",
    "     except Exception as E:\n",
    "         print(\"Enter numbers only.\")"
   ]
  },
  {
   "cell_type": "markdown",
   "id": "93c6bd83-2c25-4c3a-8f9a-15ae48978ab7",
   "metadata": {},
   "source": [
    "3. Write a Python Program to Print the Fibonacci sequence?\n"
   ]
  },
  {
   "cell_type": "code",
   "execution_count": 25,
   "id": "69d53d1d-96f9-44d4-bcbc-37320fa3ae3c",
   "metadata": {},
   "outputs": [
    {
     "name": "stdin",
     "output_type": "stream",
     "text": [
      "Enter the number of terms:  10\n"
     ]
    },
    {
     "name": "stdout",
     "output_type": "stream",
     "text": [
      "Fibonacci series:\n",
      "0\n",
      "1\n",
      "1\n",
      "2\n",
      "3\n",
      "5\n",
      "8\n",
      "13\n",
      "21\n",
      "34\n"
     ]
    }
   ],
   "source": [
    "def fibonacci_series(num):\n",
    "    try:\n",
    "        num = int(num)\n",
    "\n",
    "        if num <= 0:\n",
    "            print(\"Please enter a positive integer\")\n",
    "            return\n",
    "\n",
    "        elif num == 1:\n",
    "            print(\"Fibonacci sequence upto\", num, \":\")\n",
    "            print(0)\n",
    "            return\n",
    "\n",
    "        print(\"Fibonacci series:\")\n",
    "        n1, n2 = 0, 1\n",
    "        count = 0\n",
    "\n",
    "        while count < num:\n",
    "            print(n1)\n",
    "            nth = n1 + n2\n",
    "            n1 = n2\n",
    "            n2 = nth\n",
    "            count += 1\n",
    "    except ValueError:\n",
    "        print(\"Invalid input. Please enter an integer.\")\n",
    "\n",
    "try:\n",
    "  entered_value = input(\"Enter the number of terms: \")\n",
    "  fibonacci_series(entered_value)\n",
    "except ValueError:\n",
    "  print(\"Invalid input. Please enter an integer.\")"
   ]
  },
  {
   "cell_type": "code",
   "execution_count": 12,
   "id": "404ea22a-cbb3-4a85-b74b-dffa3a61d065",
   "metadata": {},
   "outputs": [
    {
     "name": "stdin",
     "output_type": "stream",
     "text": [
      "Enter the first term of the series:  0\n",
      "Enter the second term of the series:  1\n",
      "Enter the number terms of the series:  12\n"
     ]
    },
    {
     "name": "stdout",
     "output_type": "stream",
     "text": [
      "0\n",
      "1\n",
      "1\n",
      "2\n",
      "3\n",
      "5\n",
      "8\n",
      "13\n",
      "21\n",
      "34\n",
      "55\n",
      "89\n"
     ]
    }
   ],
   "source": [
    "def fibonacci_series(start,nexterm,stop):\n",
    "    list2 = []\n",
    "    while stop != 0:\n",
    "        print(start)\n",
    "        start,nexterm = nexterm,start+nexterm\n",
    "        stop -= 1\n",
    "\n",
    "try:\n",
    "    start = int(input(\"Enter the first term of the series: \"))\n",
    "    nexterm = int(input(\"Enter the second term of the series: \"))\n",
    "    stop = int(input(\"Enter the number terms of the series: \"))\n",
    "    fibonacci_series(start,nexterm,stop)\n",
    "except Exception as error:\n",
    "    print(\"only numbers are allowed\",error)"
   ]
  },
  {
   "cell_type": "code",
   "execution_count": 21,
   "id": "baf64aaf-2f2d-4338-ac89-2c51bd3a41f9",
   "metadata": {},
   "outputs": [
    {
     "name": "stdin",
     "output_type": "stream",
     "text": [
      "Enter the number of Fibonacci terms to generate:  10\n"
     ]
    },
    {
     "name": "stdout",
     "output_type": "stream",
     "text": [
      "Fibonacci sequence: [0, 1, 1, 2, 3, 5, 8, 13, 21, 34]\n"
     ]
    }
   ],
   "source": [
    "def my_fibonacci(n):\n",
    "    fib_list = []\n",
    "    a, b = 0, 1\n",
    "    for _ in range(n):\n",
    "        fib_list.append(a)\n",
    "        a, b = b, a + b\n",
    "    return fib_list\n",
    "\n",
    "try:\n",
    "    num_terms = int(input(\"Enter the number of Fibonacci terms to generate: \"))\n",
    "    if num_terms <= 0:\n",
    "        print(\"Please enter a positive integer.\")\n",
    "    else:\n",
    "        fibonacci_sequence = my_fibonacci(num_terms)\n",
    "        print(\"Fibonacci sequence:\", fibonacci_sequence)\n",
    "\n",
    "except ValueError:\n",
    "    print(\"Invalid input. Please enter an integer.\")"
   ]
  },
  {
   "cell_type": "markdown",
   "id": "91cbd071-bb8c-4aab-b7b4-e5d5c7b40809",
   "metadata": {},
   "source": [
    "4. Write a Python Program to Check Armstrong Number?"
   ]
  },
  {
   "cell_type": "code",
   "execution_count": 16,
   "id": "38c9b556-9ba8-4855-a736-59ec83304418",
   "metadata": {},
   "outputs": [
    {
     "name": "stdin",
     "output_type": "stream",
     "text": [
      "Enter a number:  150\n"
     ]
    },
    {
     "name": "stdout",
     "output_type": "stream",
     "text": [
      "150 is not an Armstrong number\n"
     ]
    }
   ],
   "source": [
    "num = int(input(\"Enter a number: \"))\n",
    "original_num = num\n",
    "sum = 0\n",
    "\n",
    "while num > 0:\n",
    "    digit = num % 10\n",
    "    sum += digit ** 3\n",
    "    num //= 10\n",
    "\n",
    "if original_num == sum:\n",
    "    print(original_num, \"is an Armstrong number\")\n",
    "else:\n",
    "    print(original_num, \"is not an Armstrong number\")"
   ]
  },
  {
   "cell_type": "code",
   "execution_count": 28,
   "id": "c3afefa6-bee8-4462-888b-e486128d7668",
   "metadata": {},
   "outputs": [
    {
     "name": "stdin",
     "output_type": "stream",
     "text": [
      "Enter a number:  370\n"
     ]
    },
    {
     "name": "stdout",
     "output_type": "stream",
     "text": [
      "370 is an Armstrong number\n"
     ]
    }
   ],
   "source": [
    "def is_armstrong_number(number):\n",
    "    power = len(str(number))\n",
    "    new_total = sum(int(digit)**power for digit in str(number))\n",
    "    return new_total == number\n",
    "\n",
    "num = input(\"Enter a number: \")\n",
    "\n",
    "if is_armstrong_number(int(num)):\n",
    "    print(f\"{num} is an Armstrong number\")\n",
    "else:\n",
    "    print(f\"{num} is not an Armstrong number\")"
   ]
  },
  {
   "cell_type": "markdown",
   "id": "e179342f-c574-4727-87c2-3162276dd412",
   "metadata": {},
   "source": [
    "5. Write a Python Program to Find Armstrong Number in an Interval?"
   ]
  },
  {
   "cell_type": "code",
   "execution_count": 29,
   "id": "d60fe08a-fbde-435f-9b68-5fcb2684b38c",
   "metadata": {},
   "outputs": [
    {
     "name": "stdin",
     "output_type": "stream",
     "text": [
      "Enter the start of the interval : 1\n",
      "Enter the end of the interval : 10000\n"
     ]
    },
    {
     "name": "stdout",
     "output_type": "stream",
     "text": [
      "[1, 2, 3, 4, 5, 6, 7, 8, 9, 153, 370, 371, 407, 1634, 8208, 9474] is an armstrong number\n",
      "16\n"
     ]
    }
   ],
   "source": [
    "def armstrong_no(start,end):\n",
    "    list2 = []\n",
    "    for i in range(start,end + 1):\n",
    "        order = len(str(i)) \n",
    "        sum = 0\n",
    "        temp = i\n",
    "        while temp > 0:\n",
    "            digit = temp % 10\n",
    "            sum += digit ** order\n",
    "            temp //= 10\n",
    "        \n",
    "        if i == sum:\n",
    "            list2.append(i)\n",
    "    \n",
    "    print(list2,\"is an armstrong number\")       \n",
    "    print(len(list2))\n",
    "\n",
    "try:\n",
    "    start = int(input(\"Enter the start of the interval :\"))\n",
    "    end = int(input(\"Enter the end of the interval :\"))\n",
    "    armstrong_no(start,end)\n",
    "\n",
    "except Exception as e:\n",
    "    print(\"Only numbers are allowed\",e)"
   ]
  },
  {
   "cell_type": "markdown",
   "id": "4e36e6e5-461a-45ac-91d2-b669da0d46d2",
   "metadata": {},
   "source": [
    " 6. Write a Python Program to Find the Sum of Natural Numbers?"
   ]
  },
  {
   "cell_type": "code",
   "execution_count": 18,
   "id": "53457c65-cd25-4475-bfee-f59889f503d7",
   "metadata": {},
   "outputs": [
    {
     "name": "stdin",
     "output_type": "stream",
     "text": [
      "Enter the starting number:  1\n",
      "Enter the ending number:  100\n"
     ]
    },
    {
     "name": "stdout",
     "output_type": "stream",
     "text": [
      "The sum of natural numbers from 1 to 100 is: 5050\n"
     ]
    }
   ],
   "source": [
    "start_num = int(input(\"Enter the starting number: \"))\n",
    "end_num = int(input(\"Enter the ending number: \"))\n",
    "\n",
    "sum = 0\n",
    "\n",
    "for num in range(start_num, end_num + 1):\n",
    "  sum += num\n",
    "\n",
    "print(\"The sum of natural numbers from\", start_num, \"to\", end_num, \"is:\", sum)\n"
   ]
  },
  {
   "cell_type": "code",
   "execution_count": 5,
   "id": "a9c2e59f-dece-4642-9ccf-0572b84cd905",
   "metadata": {},
   "outputs": [
    {
     "name": "stdin",
     "output_type": "stream",
     "text": [
      "Enter the starting number:  1\n",
      "Enter the ending number:  100\n"
     ]
    },
    {
     "name": "stdout",
     "output_type": "stream",
     "text": [
      "The sum of natural numbers from 1 to 100 is: 5050\n"
     ]
    }
   ],
   "source": [
    "def sum_of_natural(start,end):\n",
    "    sum = 0\n",
    "    for i in range(start,end+1):\n",
    "        sum += i\n",
    "    print(\"The sum of natural numbers from\", start, \"to\", end, \"is:\", sum)   \n",
    "\n",
    "try:\n",
    "    start = int(input(\"Enter the starting number: \"))\n",
    "    end = int(input(\"Enter the ending number: \"))\n",
    "    sum_of_natural(start,end)\n",
    "\n",
    "except Exception as error:\n",
    "    print(\"Only numbers are allowed\",error)"
   ]
  },
  {
   "cell_type": "code",
   "execution_count": null,
   "id": "fef6f335-a243-4d80-8fc1-72f87ccab8da",
   "metadata": {},
   "outputs": [],
   "source": []
  }
 ],
 "metadata": {
  "kernelspec": {
   "display_name": "Python 3 (ipykernel)",
   "language": "python",
   "name": "python3"
  },
  "language_info": {
   "codemirror_mode": {
    "name": "ipython",
    "version": 3
   },
   "file_extension": ".py",
   "mimetype": "text/x-python",
   "name": "python",
   "nbconvert_exporter": "python",
   "pygments_lexer": "ipython3",
   "version": "3.9.5"
  }
 },
 "nbformat": 4,
 "nbformat_minor": 5
}
