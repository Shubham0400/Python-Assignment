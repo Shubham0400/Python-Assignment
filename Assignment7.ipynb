{
 "cells": [
  {
   "cell_type": "markdown",
   "id": "eddb9c55-6087-48a4-bc5c-0523365f5782",
   "metadata": {},
   "source": [
    "# Assignment 7"
   ]
  },
  {
   "cell_type": "markdown",
   "id": "79932bea-4394-4dad-b521-a6b6e52fce9b",
   "metadata": {},
   "source": [
    "1. Write a Python Program to find sum of array?"
   ]
  },
  {
   "cell_type": "code",
   "execution_count": 6,
   "id": "1d2b4b58-8bfa-40fb-9690-7a1c977044a4",
   "metadata": {},
   "outputs": [
    {
     "name": "stdout",
     "output_type": "stream",
     "text": [
      "15\n",
      "1\n",
      "2\n",
      "3\n",
      "4\n",
      "5\n"
     ]
    }
   ],
   "source": [
    "import array as array\n",
    "my_array = array.array(\"i\",[1,2,3,4,5])\n",
    "\n",
    "print(sum(my_array))\n",
    "\n",
    "for item in my_array:\n",
    "    print(item)"
   ]
  },
  {
   "cell_type": "code",
   "execution_count": 8,
   "id": "0592fe79-8d11-4d41-b9d1-024fdae162d9",
   "metadata": {},
   "outputs": [
    {
     "name": "stdout",
     "output_type": "stream",
     "text": [
      "15\n"
     ]
    }
   ],
   "source": [
    "import array as array\n",
    "my_array = array.array(\"i\",[1,2,3,4,5])\n",
    "\n",
    "total = 0\n",
    "for item in my_array:\n",
    "    total += item\n",
    "print(total)"
   ]
  },
  {
   "cell_type": "code",
   "execution_count": 11,
   "id": "083f134c-8ac7-4ebb-83e0-3b2f3e73d3f9",
   "metadata": {},
   "outputs": [
    {
     "name": "stdin",
     "output_type": "stream",
     "text": [
      "Enter your number sept by comma 1,2,3,4\n"
     ]
    },
    {
     "name": "stdout",
     "output_type": "stream",
     "text": [
      "10\n"
     ]
    }
   ],
   "source": [
    "def total_sum(list1):\n",
    "    total = 0\n",
    "    for item in list1:\n",
    "        total += item\n",
    "    return total\n",
    "\n",
    "if __name__ == \"__main__\":\n",
    "    list1 = list(map(int,input(\"Enter your number sept by comma\").split(',')))\n",
    "    print(total_sum(list1))"
   ]
  },
  {
   "cell_type": "markdown",
   "id": "ff78a732-6447-4058-befb-2815b60400c8",
   "metadata": {},
   "source": [
    "2. Write a Python Program to find largest element in an array?"
   ]
  },
  {
   "cell_type": "code",
   "execution_count": 24,
   "id": "a5695f0f-00fd-4ec8-abe7-24881e64116f",
   "metadata": {},
   "outputs": [
    {
     "name": "stdout",
     "output_type": "stream",
     "text": [
      "300\n"
     ]
    }
   ],
   "source": [
    "list2 = [1,2,300,4,5]\n",
    "largest = 1\n",
    "for item in list2:\n",
    "    if item > largest:\n",
    "        largest = item\n",
    "print(largest)"
   ]
  },
  {
   "cell_type": "markdown",
   "id": "7c09205a-0759-4300-8820-ab0576a656e0",
   "metadata": {},
   "source": [
    "3. Write a Python Program for array rotation?"
   ]
  },
  {
   "cell_type": "code",
   "execution_count": 27,
   "id": "e541abc2-08dd-4e65-9727-a95c0dab5352",
   "metadata": {},
   "outputs": [
    {
     "name": "stdout",
     "output_type": "stream",
     "text": [
      "deque([100, 499, 300, 200, 700, 800])\n",
      "deque([300, 200, 700, 800, 100, 499])\n"
     ]
    }
   ],
   "source": [
    "from collections import deque\n",
    "d = deque([100,499,300,200,700,800])\n",
    "print(d)\n",
    "d.rotate(4)\n",
    "print(d)"
   ]
  },
  {
   "cell_type": "markdown",
   "id": "c96b905c-c2ca-4e65-8faf-6e6d9fd914b3",
   "metadata": {},
   "source": [
    "4. Write a Python Program to Split the array and add the first part to the end?"
   ]
  },
  {
   "cell_type": "code",
   "execution_count": 32,
   "id": "dc2c8b8e-6771-432b-86bf-11d4b6242360",
   "metadata": {},
   "outputs": [
    {
     "name": "stdout",
     "output_type": "stream",
     "text": [
      "list2 [1, 2, 3, 4, 5]\n",
      "list3 [6, 7, 8, 9, 10]\n",
      "[6, 7, 8, 9, 10, 1, 2, 3, 4, 5]\n"
     ]
    }
   ],
   "source": [
    "list1 = [1,2,3,4,5,6,7,8,9,10]\n",
    "stop = 5\n",
    "list2 = list1[:stop]\n",
    "print(\"list2\",list2)\n",
    "\n",
    "list3 = list1[stop:]\n",
    "print(\"list3\",list3)\n",
    "\n",
    "new_list = list3 + list2\n",
    "print(new_list)"
   ]
  },
  {
   "cell_type": "markdown",
   "id": "837d1a90-2e8c-4b42-9e82-817d210ad01d",
   "metadata": {},
   "source": [
    "5. Write a Python Program to check if given array is Monotonic?"
   ]
  },
  {
   "cell_type": "code",
   "execution_count": null,
   "id": "f47498c3-4730-4b0b-b39e-ec22e80a4d26",
   "metadata": {},
   "outputs": [],
   "source": [
    "monotonic1 = [1,2,3,4,5]\n",
    "monotonic2 = [5,4,3,2,1]\n",
    "monotonic3 = [5,5,4,1]"
   ]
  },
  {
   "cell_type": "code",
   "execution_count": 38,
   "id": "93a99dd2-2199-40e9-af3c-69981486c8e4",
   "metadata": {},
   "outputs": [
    {
     "data": {
      "text/plain": [
       "True"
      ]
     },
     "execution_count": 38,
     "metadata": {},
     "output_type": "execute_result"
    }
   ],
   "source": [
    "all((True,True,True,True,True))"
   ]
  },
  {
   "cell_type": "code",
   "execution_count": 39,
   "id": "fce74f73-e9d9-464e-a82f-2f552346dc56",
   "metadata": {},
   "outputs": [
    {
     "data": {
      "text/plain": [
       "False"
      ]
     },
     "execution_count": 39,
     "metadata": {},
     "output_type": "execute_result"
    }
   ],
   "source": [
    "all((True,True,True,True,False))"
   ]
  },
  {
   "cell_type": "code",
   "execution_count": 37,
   "id": "61c47759-ef2c-4284-8958-4ddf04605a79",
   "metadata": {},
   "outputs": [
    {
     "name": "stdout",
     "output_type": "stream",
     "text": [
      "monotonic\n"
     ]
    }
   ],
   "source": [
    "list1 = [5,4,3,2,1]\n",
    "\n",
    "if all (list1[i] >= list1[i+1] for i in range(len(list1)-1)):\n",
    "    print(\"monotonic\")\n",
    "else:\n",
    "    print(\"Non monotonic\")"
   ]
  }
 ],
 "metadata": {
  "kernelspec": {
   "display_name": "Python 3 (ipykernel)",
   "language": "python",
   "name": "python3"
  },
  "language_info": {
   "codemirror_mode": {
    "name": "ipython",
    "version": 3
   },
   "file_extension": ".py",
   "mimetype": "text/x-python",
   "name": "python",
   "nbconvert_exporter": "python",
   "pygments_lexer": "ipython3",
   "version": "3.9.5"
  }
 },
 "nbformat": 4,
 "nbformat_minor": 5
}
